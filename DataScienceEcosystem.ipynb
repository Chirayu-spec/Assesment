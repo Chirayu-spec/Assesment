{
 "cells": [
  {
   "cell_type": "markdown",
   "id": "3aaf01b4-ecb1-41ed-a18f-cca47039327f",
   "metadata": {},
   "source": [
    "# Data Science Tools and Ecosystem"
   ]
  },
  {
   "cell_type": "markdown",
   "id": "7565733c-6671-4be8-9798-1cc30295a3c2",
   "metadata": {},
   "source": [
    "**In this notebook, Data Science Tools and Ecosystems are Summarized**"
   ]
  },
  {
   "cell_type": "markdown",
   "id": "33f15570-f12c-4dff-b6c7-50f492d4bfd8",
   "metadata": {},
   "source": [
    "Some of the popular languages that Data scientists are used :\n",
    "- Python\n",
    "- SQL\n",
    "- Java\n",
    "- R"
   ]
  },
  {
   "cell_type": "markdown",
   "id": "a69fc2a2-96bf-4de7-9068-a833189ae759",
   "metadata": {},
   "source": [
    "Some of the commonly used liabraries used by Data Scientist include :\n",
    "- Numpy\n",
    "- Scipy\n",
    "- pandas"
   ]
  },
  {
   "cell_type": "markdown",
   "id": "81c1d0ca-3607-44ff-bd83-7eeb25bd3ca4",
   "metadata": {},
   "source": [
    "| Data Science tools|\n",
    "|-------------------|\n",
    "|Jupyter Notebook|\n",
    "|MongoDB|\n",
    "|Github|"
   ]
  },
  {
   "cell_type": "markdown",
   "id": "cb0fd3b6-99b9-460a-9ea1-4fd53ab7eadd",
   "metadata": {},
   "source": [
    "# Below are few examples of evaluating arithmatic expressions in python"
   ]
  },
  {
   "cell_type": "markdown",
   "id": "b3a99317-ca44-411d-a86a-e64156d0c593",
   "metadata": {
    "tags": []
   },
   "source": [
    "### Below are few examples of evaluating arithmatic expressions in python"
   ]
  },
  {
   "cell_type": "code",
   "execution_count": 4,
   "id": "93ae801d-4ce2-4d2e-9f28-52870bc9624d",
   "metadata": {
    "tags": []
   },
   "outputs": [
    {
     "name": "stdout",
     "output_type": "stream",
     "text": [
      "17\n"
     ]
    }
   ],
   "source": [
    "# this is a simple arithmetic expression to multiply two numbers then add integers\n",
    "print((3*4)+5)"
   ]
  },
  {
   "cell_type": "code",
   "execution_count": 5,
   "id": "3f8f9692-7e22-48a6-a230-c86d67836a46",
   "metadata": {
    "tags": []
   },
   "outputs": [
    {
     "name": "stdout",
     "output_type": "stream",
     "text": [
      "3.3333333333333335\n"
     ]
    }
   ],
   "source": [
    "# this will convert 200 minutes to hrs by dividing by 60.\n",
    "print(200/60)"
   ]
  },
  {
   "cell_type": "markdown",
   "id": "35bf9d86-8711-4b0f-9d15-47d1819c53ae",
   "metadata": {},
   "source": [
    "**Objectives :**\n",
    "- Jupyter Notebook\n",
    "- R-language\n",
    "- Github"
   ]
  },
  {
   "cell_type": "markdown",
   "id": "d2f80146-5e73-4e01-9df0-988d5eaba796",
   "metadata": {},
   "source": [
    "## Author\n",
    "Chirayu "
   ]
  },
  {
   "cell_type": "code",
   "execution_count": null,
   "id": "68725bf7-b896-47a8-8e29-157985727a54",
   "metadata": {},
   "outputs": [],
   "source": []
  }
 ],
 "metadata": {
  "kernelspec": {
   "display_name": "Python",
   "language": "python",
   "name": "conda-env-python-py"
  },
  "language_info": {
   "codemirror_mode": {
    "name": "ipython",
    "version": 3
   },
   "file_extension": ".py",
   "mimetype": "text/x-python",
   "name": "python",
   "nbconvert_exporter": "python",
   "pygments_lexer": "ipython3",
   "version": "3.7.12"
  }
 },
 "nbformat": 4,
 "nbformat_minor": 5
}
